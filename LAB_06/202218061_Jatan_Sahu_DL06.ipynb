{
  "cells": [
    {
      "cell_type": "markdown",
      "source": [
        "NAME - JATAN SAHU\n",
        "\n",
        "ID - 202218061"
      ],
      "metadata": {
        "id": "hlTvJXukSXtl"
      }
    },
    {
      "cell_type": "markdown",
      "source": [
        "1. Introduction\n",
        "Long Short Term Memory\n",
        "In this Lab session we shall be working hands on with LSTM Modeling\n",
        "\n",
        "2.Tasks\n",
        "\n",
        "1) Apply basic preprocessing on the given datasets\n",
        "2) Use LSTM and build neural networks for Electricity load forecasting\n",
        "dataset\n",
        "3) Apply Sentiment Analysis on the Sentiment Analysis dataset using\n",
        "LSTM and Word2Vec"
      ],
      "metadata": {
        "id": "uYp0FSNFSQxt"
      }
    },
    {
      "cell_type": "markdown",
      "source": [
        "##Importing Libraries"
      ],
      "metadata": {
        "id": "sXRz5c-xR2Ib"
      }
    },
    {
      "cell_type": "code",
      "execution_count": null,
      "metadata": {
        "id": "KLirRSIhRu89"
      },
      "outputs": [],
      "source": [
        "import time\n",
        "import re\n",
        "import random\n",
        "import pandas as pd\n",
        "import numpy as np\n",
        "import matplotlib.pyplot as plt\n",
        "import seaborn as sns\n",
        "import plotly.express as px\n",
        "\n",
        "from sklearn.preprocessing import StandardScaler\n",
        "from sklearn.metrics import mean_squared_error, mean_absolute_error, r2_score\n",
        "from sklearn.manifold import TSNE\n",
        "from sklearn.feature_extraction.text import CountVectorizer\n",
        "\n",
        "import tensorflow as tf\n",
        "from tensorflow.keras.models import Sequential\n",
        "from tensorflow.keras.layers import Dense, Embedding, LSTM, SpatialDropout1D, Input\n",
        "from tensorflow.keras.optimizers import Adam\n",
        "from tensorflow.keras.callbacks import EarlyStopping\n",
        "from tensorflow.keras.regularizers import L2\n",
        "\n",
        "from keras.preprocessing.text import Tokenizer\n",
        "from keras.utils import to_categorical, pad_sequences\n",
        "\n",
        "from gensim.models import Word2Vec\n",
        "\n",
        "import warnings\n",
        "warnings.filterwarnings('ignore')\n"
      ]
    },
    {
      "cell_type": "markdown",
      "metadata": {
        "id": "DJXpLeeoRu9F"
      },
      "source": [
        "#DATASET -  Electricity"
      ]
    },
    {
      "cell_type": "code",
      "execution_count": null,
      "metadata": {
        "id": "6ACppJBKRu9K",
        "outputId": "f9772d09-c9e6-4b1f-ed75-ad965c58df3f"
      },
      "outputs": [
        {
          "data": {
            "text/html": [
              "<div>\n",
              "<style scoped>\n",
              "    .dataframe tbody tr th:only-of-type {\n",
              "        vertical-align: middle;\n",
              "    }\n",
              "\n",
              "    .dataframe tbody tr th {\n",
              "        vertical-align: top;\n",
              "    }\n",
              "\n",
              "    .dataframe thead th {\n",
              "        text-align: right;\n",
              "    }\n",
              "</style>\n",
              "<table border=\"1\" class=\"dataframe\">\n",
              "  <thead>\n",
              "    <tr style=\"text-align: right;\">\n",
              "      <th></th>\n",
              "      <th>datetime</th>\n",
              "      <th>nat_demand</th>\n",
              "      <th>T2M_toc</th>\n",
              "      <th>QV2M_toc</th>\n",
              "      <th>TQL_toc</th>\n",
              "      <th>W2M_toc</th>\n",
              "      <th>T2M_san</th>\n",
              "      <th>QV2M_san</th>\n",
              "      <th>TQL_san</th>\n",
              "      <th>W2M_san</th>\n",
              "      <th>T2M_dav</th>\n",
              "      <th>QV2M_dav</th>\n",
              "      <th>TQL_dav</th>\n",
              "      <th>W2M_dav</th>\n",
              "      <th>Holiday_ID</th>\n",
              "      <th>holiday</th>\n",
              "      <th>school</th>\n",
              "    </tr>\n",
              "  </thead>\n",
              "  <tbody>\n",
              "    <tr>\n",
              "      <th>0</th>\n",
              "      <td>2015-03-01 01:00:00</td>\n",
              "      <td>970.3450</td>\n",
              "      <td>25.865259</td>\n",
              "      <td>0.018576</td>\n",
              "      <td>0.016174</td>\n",
              "      <td>21.850546</td>\n",
              "      <td>23.482446</td>\n",
              "      <td>0.017272</td>\n",
              "      <td>0.001855</td>\n",
              "      <td>10.328949</td>\n",
              "      <td>22.662134</td>\n",
              "      <td>0.016562</td>\n",
              "      <td>0.096100</td>\n",
              "      <td>5.364148</td>\n",
              "      <td>0</td>\n",
              "      <td>0</td>\n",
              "      <td>0</td>\n",
              "    </tr>\n",
              "    <tr>\n",
              "      <th>1</th>\n",
              "      <td>2015-03-01 02:00:00</td>\n",
              "      <td>912.1755</td>\n",
              "      <td>25.899255</td>\n",
              "      <td>0.018653</td>\n",
              "      <td>0.016418</td>\n",
              "      <td>22.166944</td>\n",
              "      <td>23.399255</td>\n",
              "      <td>0.017265</td>\n",
              "      <td>0.001327</td>\n",
              "      <td>10.681517</td>\n",
              "      <td>22.578943</td>\n",
              "      <td>0.016509</td>\n",
              "      <td>0.087646</td>\n",
              "      <td>5.572471</td>\n",
              "      <td>0</td>\n",
              "      <td>0</td>\n",
              "      <td>0</td>\n",
              "    </tr>\n",
              "    <tr>\n",
              "      <th>2</th>\n",
              "      <td>2015-03-01 03:00:00</td>\n",
              "      <td>900.2688</td>\n",
              "      <td>25.937280</td>\n",
              "      <td>0.018768</td>\n",
              "      <td>0.015480</td>\n",
              "      <td>22.454911</td>\n",
              "      <td>23.343530</td>\n",
              "      <td>0.017211</td>\n",
              "      <td>0.001428</td>\n",
              "      <td>10.874924</td>\n",
              "      <td>22.531030</td>\n",
              "      <td>0.016479</td>\n",
              "      <td>0.078735</td>\n",
              "      <td>5.871184</td>\n",
              "      <td>0</td>\n",
              "      <td>0</td>\n",
              "      <td>0</td>\n",
              "    </tr>\n",
              "    <tr>\n",
              "      <th>3</th>\n",
              "      <td>2015-03-01 04:00:00</td>\n",
              "      <td>889.9538</td>\n",
              "      <td>25.957544</td>\n",
              "      <td>0.018890</td>\n",
              "      <td>0.016273</td>\n",
              "      <td>22.110481</td>\n",
              "      <td>23.238794</td>\n",
              "      <td>0.017128</td>\n",
              "      <td>0.002599</td>\n",
              "      <td>10.518620</td>\n",
              "      <td>22.512231</td>\n",
              "      <td>0.016487</td>\n",
              "      <td>0.068390</td>\n",
              "      <td>5.883621</td>\n",
              "      <td>0</td>\n",
              "      <td>0</td>\n",
              "      <td>0</td>\n",
              "    </tr>\n",
              "    <tr>\n",
              "      <th>4</th>\n",
              "      <td>2015-03-01 05:00:00</td>\n",
              "      <td>893.6865</td>\n",
              "      <td>25.973840</td>\n",
              "      <td>0.018981</td>\n",
              "      <td>0.017281</td>\n",
              "      <td>21.186089</td>\n",
              "      <td>23.075403</td>\n",
              "      <td>0.017059</td>\n",
              "      <td>0.001729</td>\n",
              "      <td>9.733589</td>\n",
              "      <td>22.481653</td>\n",
              "      <td>0.016456</td>\n",
              "      <td>0.064362</td>\n",
              "      <td>5.611724</td>\n",
              "      <td>0</td>\n",
              "      <td>0</td>\n",
              "      <td>0</td>\n",
              "    </tr>\n",
              "    <tr>\n",
              "      <th>...</th>\n",
              "      <td>...</td>\n",
              "      <td>...</td>\n",
              "      <td>...</td>\n",
              "      <td>...</td>\n",
              "      <td>...</td>\n",
              "      <td>...</td>\n",
              "      <td>...</td>\n",
              "      <td>...</td>\n",
              "      <td>...</td>\n",
              "      <td>...</td>\n",
              "      <td>...</td>\n",
              "      <td>...</td>\n",
              "      <td>...</td>\n",
              "      <td>...</td>\n",
              "      <td>...</td>\n",
              "      <td>...</td>\n",
              "      <td>...</td>\n",
              "    </tr>\n",
              "    <tr>\n",
              "      <th>43770</th>\n",
              "      <td>2019-12-31 19:00:00</td>\n",
              "      <td>1301.6065</td>\n",
              "      <td>26.635645</td>\n",
              "      <td>0.018421</td>\n",
              "      <td>0.013165</td>\n",
              "      <td>13.184052</td>\n",
              "      <td>25.135645</td>\n",
              "      <td>0.018048</td>\n",
              "      <td>0.064240</td>\n",
              "      <td>3.086798</td>\n",
              "      <td>23.620020</td>\n",
              "      <td>0.016697</td>\n",
              "      <td>0.073425</td>\n",
              "      <td>3.865351</td>\n",
              "      <td>22</td>\n",
              "      <td>1</td>\n",
              "      <td>0</td>\n",
              "    </tr>\n",
              "    <tr>\n",
              "      <th>43771</th>\n",
              "      <td>2019-12-31 20:00:00</td>\n",
              "      <td>1250.9634</td>\n",
              "      <td>26.495935</td>\n",
              "      <td>0.018162</td>\n",
              "      <td>0.014713</td>\n",
              "      <td>13.443892</td>\n",
              "      <td>24.769373</td>\n",
              "      <td>0.017781</td>\n",
              "      <td>0.058838</td>\n",
              "      <td>3.659980</td>\n",
              "      <td>23.284998</td>\n",
              "      <td>0.016606</td>\n",
              "      <td>0.064362</td>\n",
              "      <td>4.171572</td>\n",
              "      <td>22</td>\n",
              "      <td>1</td>\n",
              "      <td>0</td>\n",
              "    </tr>\n",
              "    <tr>\n",
              "      <th>43772</th>\n",
              "      <td>2019-12-31 21:00:00</td>\n",
              "      <td>1193.6802</td>\n",
              "      <td>26.354456</td>\n",
              "      <td>0.017980</td>\n",
              "      <td>0.013836</td>\n",
              "      <td>13.442195</td>\n",
              "      <td>24.479456</td>\n",
              "      <td>0.017606</td>\n",
              "      <td>0.038086</td>\n",
              "      <td>3.769294</td>\n",
              "      <td>23.041956</td>\n",
              "      <td>0.016492</td>\n",
              "      <td>0.054260</td>\n",
              "      <td>4.045283</td>\n",
              "      <td>22</td>\n",
              "      <td>1</td>\n",
              "      <td>0</td>\n",
              "    </tr>\n",
              "    <tr>\n",
              "      <th>43773</th>\n",
              "      <td>2019-12-31 22:00:00</td>\n",
              "      <td>1130.4575</td>\n",
              "      <td>26.166895</td>\n",
              "      <td>0.017965</td>\n",
              "      <td>0.018486</td>\n",
              "      <td>13.420656</td>\n",
              "      <td>24.112207</td>\n",
              "      <td>0.017393</td>\n",
              "      <td>0.020386</td>\n",
              "      <td>3.872397</td>\n",
              "      <td>22.862207</td>\n",
              "      <td>0.016401</td>\n",
              "      <td>0.055557</td>\n",
              "      <td>3.843736</td>\n",
              "      <td>22</td>\n",
              "      <td>1</td>\n",
              "      <td>0</td>\n",
              "    </tr>\n",
              "    <tr>\n",
              "      <th>43774</th>\n",
              "      <td>2019-12-31 23:00:00</td>\n",
              "      <td>1084.4737</td>\n",
              "      <td>25.976373</td>\n",
              "      <td>0.018072</td>\n",
              "      <td>0.023315</td>\n",
              "      <td>13.749788</td>\n",
              "      <td>23.663873</td>\n",
              "      <td>0.017156</td>\n",
              "      <td>0.019531</td>\n",
              "      <td>4.165276</td>\n",
              "      <td>22.726373</td>\n",
              "      <td>0.016302</td>\n",
              "      <td>0.061371</td>\n",
              "      <td>3.793209</td>\n",
              "      <td>22</td>\n",
              "      <td>1</td>\n",
              "      <td>0</td>\n",
              "    </tr>\n",
              "  </tbody>\n",
              "</table>\n",
              "<p>43775 rows × 17 columns</p>\n",
              "</div>"
            ],
            "text/plain": [
              "                 datetime  nat_demand    T2M_toc  QV2M_toc   TQL_toc  \\\n",
              "0     2015-03-01 01:00:00    970.3450  25.865259  0.018576  0.016174   \n",
              "1     2015-03-01 02:00:00    912.1755  25.899255  0.018653  0.016418   \n",
              "2     2015-03-01 03:00:00    900.2688  25.937280  0.018768  0.015480   \n",
              "3     2015-03-01 04:00:00    889.9538  25.957544  0.018890  0.016273   \n",
              "4     2015-03-01 05:00:00    893.6865  25.973840  0.018981  0.017281   \n",
              "...                   ...         ...        ...       ...       ...   \n",
              "43770 2019-12-31 19:00:00   1301.6065  26.635645  0.018421  0.013165   \n",
              "43771 2019-12-31 20:00:00   1250.9634  26.495935  0.018162  0.014713   \n",
              "43772 2019-12-31 21:00:00   1193.6802  26.354456  0.017980  0.013836   \n",
              "43773 2019-12-31 22:00:00   1130.4575  26.166895  0.017965  0.018486   \n",
              "43774 2019-12-31 23:00:00   1084.4737  25.976373  0.018072  0.023315   \n",
              "\n",
              "         W2M_toc    T2M_san  QV2M_san   TQL_san    W2M_san    T2M_dav  \\\n",
              "0      21.850546  23.482446  0.017272  0.001855  10.328949  22.662134   \n",
              "1      22.166944  23.399255  0.017265  0.001327  10.681517  22.578943   \n",
              "2      22.454911  23.343530  0.017211  0.001428  10.874924  22.531030   \n",
              "3      22.110481  23.238794  0.017128  0.002599  10.518620  22.512231   \n",
              "4      21.186089  23.075403  0.017059  0.001729   9.733589  22.481653   \n",
              "...          ...        ...       ...       ...        ...        ...   \n",
              "43770  13.184052  25.135645  0.018048  0.064240   3.086798  23.620020   \n",
              "43771  13.443892  24.769373  0.017781  0.058838   3.659980  23.284998   \n",
              "43772  13.442195  24.479456  0.017606  0.038086   3.769294  23.041956   \n",
              "43773  13.420656  24.112207  0.017393  0.020386   3.872397  22.862207   \n",
              "43774  13.749788  23.663873  0.017156  0.019531   4.165276  22.726373   \n",
              "\n",
              "       QV2M_dav   TQL_dav   W2M_dav  Holiday_ID  holiday  school  \n",
              "0      0.016562  0.096100  5.364148           0        0       0  \n",
              "1      0.016509  0.087646  5.572471           0        0       0  \n",
              "2      0.016479  0.078735  5.871184           0        0       0  \n",
              "3      0.016487  0.068390  5.883621           0        0       0  \n",
              "4      0.016456  0.064362  5.611724           0        0       0  \n",
              "...         ...       ...       ...         ...      ...     ...  \n",
              "43770  0.016697  0.073425  3.865351          22        1       0  \n",
              "43771  0.016606  0.064362  4.171572          22        1       0  \n",
              "43772  0.016492  0.054260  4.045283          22        1       0  \n",
              "43773  0.016401  0.055557  3.843736          22        1       0  \n",
              "43774  0.016302  0.061371  3.793209          22        1       0  \n",
              "\n",
              "[43775 rows x 17 columns]"
            ]
          },
          "execution_count": 50,
          "metadata": {},
          "output_type": "execute_result"
        }
      ],
      "source": [
        "elec_df = pd.read_csv(\"Electricity_load_forecasting.csv\")\n",
        "elec_df['datetime'] = pd.to_datetime(elec_df['datetime'])\n",
        "elec_df"
      ]
    },
    {
      "cell_type": "code",
      "execution_count": null,
      "metadata": {
        "id": "Uzsmg6x6Ru9N"
      },
      "outputs": [],
      "source": [
        "def create_dataset(dataset, time_step=1):\n",
        "\tdata = dataset.copy().reset_index(drop=True)\n",
        "\tdataX, dataY = [], []\n",
        "\tfor i in range(len(data) - time_step - 1):\n",
        "\t\ta = data[i: (i+time_step)]\n",
        "\t\tdataX.append(a)\n",
        "\t\tdataY.append(data[i + time_step])\n",
        "\treturn np.array(dataX), np.array(dataY)\n"
      ]
    },
    {
      "cell_type": "code",
      "execution_count": null,
      "metadata": {
        "id": "K4_3tE_XRu9O"
      },
      "outputs": [],
      "source": [
        "data = elec_df['nat_demand']\n",
        "size = len(elec_df)\n",
        "train_split = int(size * 0.8)\n",
        "\n",
        "train_data = data[:train_split]\n",
        "test_data = data[train_split:]"
      ]
    },
    {
      "cell_type": "code",
      "execution_count": null,
      "metadata": {
        "id": "nTu3LxfGRu9P"
      },
      "outputs": [],
      "source": [
        "time_step = 24\n",
        "X_train, y_train = create_dataset(train_data, time_step)\n",
        "X_test, y_test = create_dataset(test_data, time_step)"
      ]
    },
    {
      "cell_type": "code",
      "execution_count": null,
      "metadata": {
        "id": "0rdtkA5SRu9P",
        "outputId": "b92db6a9-2b3b-49f3-dac2-33ae676e029a"
      },
      "outputs": [
        {
          "data": {
            "text/plain": [
              "((34995, 24), (34995,), (8730, 24), (34995,))"
            ]
          },
          "execution_count": 103,
          "metadata": {},
          "output_type": "execute_result"
        }
      ],
      "source": [
        "X_train.shape, y_train.shape, X_test.shape, y_train.shape"
      ]
    },
    {
      "cell_type": "code",
      "execution_count": null,
      "metadata": {
        "id": "iDaupOveRu9Q"
      },
      "outputs": [],
      "source": [
        "scaler = StandardScaler()\n",
        "\n",
        "X_train = scaler.fit_transform(X_train)\n",
        "X_test = scaler.transform(X_test)"
      ]
    },
    {
      "cell_type": "code",
      "execution_count": null,
      "metadata": {
        "id": "eoqZdofsRu9R"
      },
      "outputs": [],
      "source": [
        "X_train = X_train.reshape(X_train.shape[0], X_train.shape[1], 1)\n",
        "X_test = X_test.reshape(X_test.shape[0], X_test.shape[1], 1)\n"
      ]
    },
    {
      "cell_type": "code",
      "execution_count": null,
      "metadata": {
        "id": "5KLagLT1Ru9S",
        "outputId": "92cbc40b-eeba-413a-d616-3e2b18661ad5"
      },
      "outputs": [
        {
          "data": {
            "text/plain": [
              "(34995, 24, 1)"
            ]
          },
          "execution_count": 106,
          "metadata": {},
          "output_type": "execute_result"
        }
      ],
      "source": [
        "X_train.shape"
      ]
    },
    {
      "cell_type": "code",
      "execution_count": null,
      "metadata": {
        "id": "eUlmLfZ4Ru9T",
        "outputId": "b50d98b2-88eb-4625-a4d6-437447814c8b"
      },
      "outputs": [
        {
          "name": "stdout",
          "output_type": "stream",
          "text": [
            "Model: \"sequential_10\"\n",
            "_________________________________________________________________\n",
            " Layer (type)                Output Shape              Param #   \n",
            "=================================================================\n",
            " lstm_12 (LSTM)              (None, 24, 50)            10400     \n",
            "                                                                 \n",
            " lstm_13 (LSTM)              (None, 24, 50)            20200     \n",
            "                                                                 \n",
            " dense_12 (Dense)            (None, 24, 16)            816       \n",
            "                                                                 \n",
            " dense_13 (Dense)            (None, 24, 1)             17        \n",
            "                                                                 \n",
            "=================================================================\n",
            "Total params: 31433 (122.79 KB)\n",
            "Trainable params: 31433 (122.79 KB)\n",
            "Non-trainable params: 0 (0.00 Byte)\n",
            "_________________________________________________________________\n"
          ]
        }
      ],
      "source": [
        "model = Sequential([\n",
        "    LSTM(50, return_sequences=True, input_shape=(X_train.shape[1], 1)),\n",
        "    LSTM(50, return_sequences=True),\n",
        "    Dense(16, activation='relu'),\n",
        "    Dense(1)\n",
        "])\n",
        "model.summary()"
      ]
    },
    {
      "cell_type": "code",
      "execution_count": null,
      "metadata": {
        "id": "IGAmf4d_Ru9U",
        "outputId": "85c84316-2622-4a6e-e3cb-b599ad99b9b6"
      },
      "outputs": [
        {
          "name": "stdout",
          "output_type": "stream",
          "text": [
            "Epoch 1/15\n",
            "1094/1094 [==============================] - 39s 30ms/step - loss: 584908.5000 - val_loss: 68167.3281\n",
            "Epoch 2/15\n",
            "1094/1094 [==============================] - 32s 30ms/step - loss: 40626.1953 - val_loss: 44806.5547\n",
            "Epoch 3/15\n",
            "1094/1094 [==============================] - 31s 28ms/step - loss: 39869.1797 - val_loss: 45286.0938\n",
            "Epoch 4/15\n",
            "1094/1094 [==============================] - 31s 28ms/step - loss: 39852.8008 - val_loss: 44532.1367\n",
            "Epoch 5/15\n",
            "1094/1094 [==============================] - 31s 28ms/step - loss: 39848.6211 - val_loss: 45947.1094\n",
            "Epoch 6/15\n",
            "1094/1094 [==============================] - 31s 29ms/step - loss: 39841.9141 - val_loss: 43415.7695\n",
            "Epoch 7/15\n",
            "1094/1094 [==============================] - 31s 29ms/step - loss: 39832.7031 - val_loss: 44354.5273\n",
            "Epoch 8/15\n",
            "1094/1094 [==============================] - 32s 29ms/step - loss: 39830.8477 - val_loss: 45435.0391\n",
            "Epoch 9/15\n",
            "1094/1094 [==============================] - 35s 32ms/step - loss: 39819.4414 - val_loss: 44220.6211\n",
            "Epoch 10/15\n",
            "1094/1094 [==============================] - 45s 42ms/step - loss: 39815.9297 - val_loss: 44588.5195\n",
            "Epoch 11/15\n",
            "1094/1094 [==============================] - 47s 43ms/step - loss: 39808.0703 - val_loss: 44974.3711\n",
            "Epoch 12/15\n",
            "1094/1094 [==============================] - 47s 43ms/step - loss: 39806.9102 - val_loss: 43947.5000\n",
            "Epoch 13/15\n",
            "1094/1094 [==============================] - 47s 43ms/step - loss: 39782.4688 - val_loss: 43881.9023\n",
            "Epoch 14/15\n",
            "1094/1094 [==============================] - 56s 51ms/step - loss: 39773.7188 - val_loss: 44212.0430\n",
            "Epoch 15/15\n",
            "1094/1094 [==============================] - 47s 43ms/step - loss: 39771.3789 - val_loss: 44418.1719\n"
          ]
        }
      ],
      "source": [
        "model.compile(optimizer='adam', loss='mean_squared_error')\n",
        "history = model.fit(X_train, y_train, epochs=15, validation_data=(X_test, y_test))"
      ]
    },
    {
      "cell_type": "code",
      "execution_count": null,
      "metadata": {
        "id": "wbdApp2xRu9V",
        "outputId": "31a65957-f50c-4907-e636-5769aaf683ad"
      },
      "outputs": [
        {
          "name": "stdout",
          "output_type": "stream",
          "text": [
            "RMSE: 210.76\n"
          ]
        }
      ],
      "source": [
        "print(f\"RMSE: {np.sqrt(model.evaluate(X_test, y_test, verbose=0)):.2f}\")"
      ]
    },
    {
      "cell_type": "code",
      "execution_count": null,
      "metadata": {
        "id": "0q_ZGZBDRu9W"
      },
      "outputs": [],
      "source": []
    },
    {
      "cell_type": "code",
      "execution_count": null,
      "metadata": {
        "id": "2VosckI0Ru9W",
        "outputId": "3bfed720-a3db-4d9a-b5ec-0178d0bbde9d"
      },
      "outputs": [
        {
          "data": {
            "image/png": "[encoded data removed]",
            "text/plain": [
              "<Figure size 1200x400 with 1 Axes>"
            ]
          },
          "metadata": {},
          "output_type": "display_data"
        }
      ],
      "source": [
        "plt.figure(figsize=(12, 4))\n",
        "plt.plot(history.history['loss'][1:], label=\"Training Loss\")\n",
        "plt.plot(history.history['val_loss'][1:], label=\"Validation Loss\")\n",
        "plt.legend()\n",
        "plt.title(\"Loss\")\n",
        "plt.show()"
      ]
    },
    {
      "cell_type": "code",
      "execution_count": null,
      "metadata": {
        "id": "8HCndYJ0Ru9X"
      },
      "outputs": [],
      "source": []
    },
    {
      "cell_type": "markdown",
      "metadata": {
        "id": "XmL7-jtpRu9Y"
      },
      "source": [
        "# SentimentAnalysis"
      ]
    },
    {
      "cell_type": "code",
      "execution_count": null,
      "metadata": {
        "id": "xrFMlOOiRu9Z",
        "outputId": "1a6bcb40-e9f3-4237-9f30-cfed2c5b73a7"
      },
      "outputs": [
        {
          "data": {
            "text/html": [
              "<div>\n",
              "<style scoped>\n",
              "    .dataframe tbody tr th:only-of-type {\n",
              "        vertical-align: middle;\n",
              "    }\n",
              "\n",
              "    .dataframe tbody tr th {\n",
              "        vertical-align: top;\n",
              "    }\n",
              "\n",
              "    .dataframe thead th {\n",
              "        text-align: right;\n",
              "    }\n",
              "</style>\n",
              "<table border=\"1\" class=\"dataframe\">\n",
              "  <thead>\n",
              "    <tr style=\"text-align: right;\">\n",
              "      <th></th>\n",
              "      <th>textID</th>\n",
              "      <th>text</th>\n",
              "      <th>selected_text</th>\n",
              "      <th>sentiment</th>\n",
              "      <th>Time of Tweet</th>\n",
              "      <th>Age of User</th>\n",
              "      <th>Country</th>\n",
              "      <th>Population -2020</th>\n",
              "      <th>Land Area (Km²)</th>\n",
              "      <th>Density (P/Km²)</th>\n",
              "    </tr>\n",
              "  </thead>\n",
              "  <tbody>\n",
              "    <tr>\n",
              "      <th>0</th>\n",
              "      <td>cb774db0d1</td>\n",
              "      <td>I`d have responded, if I were going</td>\n",
              "      <td>I`d have responded, if I were going</td>\n",
              "      <td>neutral</td>\n",
              "      <td>morning</td>\n",
              "      <td>0-20</td>\n",
              "      <td>Afghanistan</td>\n",
              "      <td>38928346</td>\n",
              "      <td>652860.0</td>\n",
              "      <td>60</td>\n",
              "    </tr>\n",
              "    <tr>\n",
              "      <th>1</th>\n",
              "      <td>549e992a42</td>\n",
              "      <td>Sooo SAD I will miss you here in San Diego!!!</td>\n",
              "      <td>Sooo SAD</td>\n",
              "      <td>negative</td>\n",
              "      <td>noon</td>\n",
              "      <td>21-30</td>\n",
              "      <td>Albania</td>\n",
              "      <td>2877797</td>\n",
              "      <td>27400.0</td>\n",
              "      <td>105</td>\n",
              "    </tr>\n",
              "    <tr>\n",
              "      <th>2</th>\n",
              "      <td>088c60f138</td>\n",
              "      <td>my boss is bullying me...</td>\n",
              "      <td>bullying me</td>\n",
              "      <td>negative</td>\n",
              "      <td>night</td>\n",
              "      <td>31-45</td>\n",
              "      <td>Algeria</td>\n",
              "      <td>43851044</td>\n",
              "      <td>2381740.0</td>\n",
              "      <td>18</td>\n",
              "    </tr>\n",
              "    <tr>\n",
              "      <th>3</th>\n",
              "      <td>9642c003ef</td>\n",
              "      <td>what interview! leave me alone</td>\n",
              "      <td>leave me alone</td>\n",
              "      <td>negative</td>\n",
              "      <td>morning</td>\n",
              "      <td>46-60</td>\n",
              "      <td>Andorra</td>\n",
              "      <td>77265</td>\n",
              "      <td>470.0</td>\n",
              "      <td>164</td>\n",
              "    </tr>\n",
              "    <tr>\n",
              "      <th>4</th>\n",
              "      <td>358bd9e861</td>\n",
              "      <td>Sons of ****, why couldn`t they put them on t...</td>\n",
              "      <td>Sons of ****,</td>\n",
              "      <td>negative</td>\n",
              "      <td>noon</td>\n",
              "      <td>60-70</td>\n",
              "      <td>Angola</td>\n",
              "      <td>32866272</td>\n",
              "      <td>1246700.0</td>\n",
              "      <td>26</td>\n",
              "    </tr>\n",
              "    <tr>\n",
              "      <th>...</th>\n",
              "      <td>...</td>\n",
              "      <td>...</td>\n",
              "      <td>...</td>\n",
              "      <td>...</td>\n",
              "      <td>...</td>\n",
              "      <td>...</td>\n",
              "      <td>...</td>\n",
              "      <td>...</td>\n",
              "      <td>...</td>\n",
              "      <td>...</td>\n",
              "    </tr>\n",
              "    <tr>\n",
              "      <th>27476</th>\n",
              "      <td>4eac33d1c0</td>\n",
              "      <td>wish we could come see u on Denver  husband l...</td>\n",
              "      <td>d lost</td>\n",
              "      <td>negative</td>\n",
              "      <td>night</td>\n",
              "      <td>31-45</td>\n",
              "      <td>Ghana</td>\n",
              "      <td>31072940</td>\n",
              "      <td>227540.0</td>\n",
              "      <td>137</td>\n",
              "    </tr>\n",
              "    <tr>\n",
              "      <th>27477</th>\n",
              "      <td>4f4c4fc327</td>\n",
              "      <td>I`ve wondered about rake to.  The client has ...</td>\n",
              "      <td>, don`t force</td>\n",
              "      <td>negative</td>\n",
              "      <td>morning</td>\n",
              "      <td>46-60</td>\n",
              "      <td>Greece</td>\n",
              "      <td>10423054</td>\n",
              "      <td>128900.0</td>\n",
              "      <td>81</td>\n",
              "    </tr>\n",
              "    <tr>\n",
              "      <th>27478</th>\n",
              "      <td>f67aae2310</td>\n",
              "      <td>Yay good for both of you. Enjoy the break - y...</td>\n",
              "      <td>Yay good for both of you.</td>\n",
              "      <td>positive</td>\n",
              "      <td>noon</td>\n",
              "      <td>60-70</td>\n",
              "      <td>Grenada</td>\n",
              "      <td>112523</td>\n",
              "      <td>340.0</td>\n",
              "      <td>331</td>\n",
              "    </tr>\n",
              "    <tr>\n",
              "      <th>27479</th>\n",
              "      <td>ed167662a5</td>\n",
              "      <td>But it was worth it  ****.</td>\n",
              "      <td>But it was worth it  ****.</td>\n",
              "      <td>positive</td>\n",
              "      <td>night</td>\n",
              "      <td>70-100</td>\n",
              "      <td>Guatemala</td>\n",
              "      <td>17915568</td>\n",
              "      <td>107160.0</td>\n",
              "      <td>167</td>\n",
              "    </tr>\n",
              "    <tr>\n",
              "      <th>27480</th>\n",
              "      <td>6f7127d9d7</td>\n",
              "      <td>All this flirting going on - The ATG smiles...</td>\n",
              "      <td>All this flirting going on - The ATG smiles. Y...</td>\n",
              "      <td>neutral</td>\n",
              "      <td>morning</td>\n",
              "      <td>0-20</td>\n",
              "      <td>Guinea</td>\n",
              "      <td>13132795</td>\n",
              "      <td>246000.0</td>\n",
              "      <td>53</td>\n",
              "    </tr>\n",
              "  </tbody>\n",
              "</table>\n",
              "<p>27481 rows × 10 columns</p>\n",
              "</div>"
            ],
            "text/plain": [
              "           textID                                               text  \\\n",
              "0      cb774db0d1                I`d have responded, if I were going   \n",
              "1      549e992a42      Sooo SAD I will miss you here in San Diego!!!   \n",
              "2      088c60f138                          my boss is bullying me...   \n",
              "3      9642c003ef                     what interview! leave me alone   \n",
              "4      358bd9e861   Sons of ****, why couldn`t they put them on t...   \n",
              "...           ...                                                ...   \n",
              "27476  4eac33d1c0   wish we could come see u on Denver  husband l...   \n",
              "27477  4f4c4fc327   I`ve wondered about rake to.  The client has ...   \n",
              "27478  f67aae2310   Yay good for both of you. Enjoy the break - y...   \n",
              "27479  ed167662a5                         But it was worth it  ****.   \n",
              "27480  6f7127d9d7     All this flirting going on - The ATG smiles...   \n",
              "\n",
              "                                           selected_text sentiment  \\\n",
              "0                    I`d have responded, if I were going   neutral   \n",
              "1                                               Sooo SAD  negative   \n",
              "2                                            bullying me  negative   \n",
              "3                                         leave me alone  negative   \n",
              "4                                          Sons of ****,  negative   \n",
              "...                                                  ...       ...   \n",
              "27476                                             d lost  negative   \n",
              "27477                                      , don`t force  negative   \n",
              "27478                          Yay good for both of you.  positive   \n",
              "27479                         But it was worth it  ****.  positive   \n",
              "27480  All this flirting going on - The ATG smiles. Y...   neutral   \n",
              "\n",
              "      Time of Tweet Age of User      Country  Population -2020  \\\n",
              "0           morning        0-20  Afghanistan          38928346   \n",
              "1              noon       21-30      Albania           2877797   \n",
              "2             night       31-45      Algeria          43851044   \n",
              "3           morning       46-60      Andorra             77265   \n",
              "4              noon       60-70       Angola          32866272   \n",
              "...             ...         ...          ...               ...   \n",
              "27476         night       31-45        Ghana          31072940   \n",
              "27477       morning       46-60       Greece          10423054   \n",
              "27478          noon       60-70      Grenada            112523   \n",
              "27479         night      70-100    Guatemala          17915568   \n",
              "27480       morning        0-20       Guinea          13132795   \n",
              "\n",
              "       Land Area (Km²)  Density (P/Km²)  \n",
              "0             652860.0               60  \n",
              "1              27400.0              105  \n",
              "2            2381740.0               18  \n",
              "3                470.0              164  \n",
              "4            1246700.0               26  \n",
              "...                ...              ...  \n",
              "27476         227540.0              137  \n",
              "27477         128900.0               81  \n",
              "27478            340.0              331  \n",
              "27479         107160.0              167  \n",
              "27480         246000.0               53  \n",
              "\n",
              "[27481 rows x 10 columns]"
            ]
          },
          "execution_count": 2,
          "metadata": {},
          "output_type": "execute_result"
        }
      ],
      "source": [
        "train_df = pd.read_csv('SentimentAnalysisTrain.csv', encoding='unicode_escape')\n",
        "test_df = pd.read_csv('SentimentAnalysisTest.csv', encoding='unicode_escape')\n",
        "train_df"
      ]
    },
    {
      "cell_type": "code",
      "execution_count": null,
      "metadata": {
        "id": "DXyRGTMdRu9Z"
      },
      "outputs": [],
      "source": [
        "train_df = train_df.dropna()\n",
        "test_df = test_df.dropna()\n"
      ]
    },
    {
      "cell_type": "code",
      "execution_count": null,
      "metadata": {
        "id": "U43zj5VRRu9a"
      },
      "outputs": [],
      "source": [
        "train_df['text'] = train_df['text'].apply(lambda x: x.lower())\n",
        "test_df['text'] = test_df['text'].apply(lambda x: x.lower())\n",
        "train_df['text'] = train_df['text'].apply((lambda x: re.sub('[^a-zA-z0-9\\s]','',x)))\n",
        "test_df['text'] = test_df['text'].apply((lambda x: re.sub('[^a-zA-z0-9\\s]','',x)))"
      ]
    },
    {
      "cell_type": "code",
      "execution_count": null,
      "metadata": {
        "id": "dZMm_u_wRu9a"
      },
      "outputs": [],
      "source": [
        "train_texts = train_df['text'].tolist()\n",
        "test_texts = test_df['text'].tolist()\n",
        "\n",
        "train_labels = train_df['sentiment'].tolist()\n",
        "test_labels = test_df['sentiment'].tolist()\n"
      ]
    },
    {
      "cell_type": "code",
      "execution_count": null,
      "metadata": {
        "id": "Ceh2EMbTRu9a"
      },
      "outputs": [],
      "source": [
        "all_words = []\n",
        "for s in train_texts + test_texts:\n",
        "    all_words.append(s.split())"
      ]
    },
    {
      "cell_type": "code",
      "execution_count": null,
      "metadata": {
        "id": "bSuo-qg0Ru9a"
      },
      "outputs": [],
      "source": [
        "tokenizer = Tokenizer()\n",
        "tokenizer.fit_on_texts(train_texts + test_texts)\n",
        "word_index = tokenizer.word_index\n",
        "\n",
        "X_train_seq = tokenizer.texts_to_sequences(train_texts)\n",
        "X_train = pad_sequences(X_train_seq, padding='post')\n",
        "\n",
        "max_length = X_train.shape[1]\n",
        "X_test_seq = tokenizer.texts_to_sequences(test_texts)\n",
        "X_test = pad_sequences(X_test_seq, maxlen=max_length, padding='post')"
      ]
    },
    {
      "cell_type": "code",
      "execution_count": null,
      "metadata": {
        "id": "2HSWNCYiRu9b"
      },
      "outputs": [],
      "source": [
        "word2vec_model = Word2Vec(sentences=all_words, vector_size=max_length, window=5, min_count=1, workers=4)"
      ]
    },
    {
      "cell_type": "code",
      "execution_count": null,
      "metadata": {
        "id": "PTZNPIypRu9b"
      },
      "outputs": [],
      "source": [
        "y_train = pd.get_dummies(train_labels)\n",
        "y_test = pd.get_dummies(test_labels)"
      ]
    },
    {
      "cell_type": "code",
      "execution_count": null,
      "metadata": {
        "id": "PK9_QqIZRu9b",
        "outputId": "55a64eeb-6570-4596-a95d-3dd37f16dfce"
      },
      "outputs": [
        {
          "data": {
            "text/plain": [
              "((27480, 34), (27480, 3), (3534, 34), (3534, 3))"
            ]
          },
          "execution_count": 39,
          "metadata": {},
          "output_type": "execute_result"
        }
      ],
      "source": [
        "X_train.shape, y_train.shape, X_test.shape, y_test.shape"
      ]
    },
    {
      "cell_type": "code",
      "execution_count": null,
      "metadata": {
        "id": "0zqfSn2hRu9c"
      },
      "outputs": [],
      "source": [
        "embedding_dim = max_length\n",
        "embedding_matrix = np.zeros((len(word_index) + 1, embedding_dim))\n",
        "for word, i in word_index.items():\n",
        "    if word in word2vec_model.wv:\n",
        "        embedding_matrix[i] = word2vec_model.wv[word]"
      ]
    },
    {
      "cell_type": "code",
      "execution_count": null,
      "metadata": {
        "id": "9rPSRJXlRu9c",
        "outputId": "ad43f714-fd19-40ab-b98d-f6f7ed939fec"
      },
      "outputs": [
        {
          "name": "stdout",
          "output_type": "stream",
          "text": [
            "Model: \"sequential_7\"\n",
            "_________________________________________________________________\n",
            " Layer (type)                Output Shape              Param #   \n",
            "=================================================================\n",
            " embedding_7 (Embedding)     (None, 34, 34)            1055190   \n",
            "                                                                 \n",
            " spatial_dropout1d_7 (Spati  (None, 34, 34)            0         \n",
            " alDropout1D)                                                    \n",
            "                                                                 \n",
            " lstm_7 (LSTM)               (None, 100)               54000     \n",
            "                                                                 \n",
            " dense_7 (Dense)             (None, 3)                 303       \n",
            "                                                                 \n",
            "=================================================================\n",
            "Total params: 1109493 (4.23 MB)\n",
            "Trainable params: 54303 (212.12 KB)\n",
            "Non-trainable params: 1055190 (4.03 MB)\n",
            "_________________________________________________________________\n"
          ]
        }
      ],
      "source": [
        "model = Sequential()\n",
        "model.add(Embedding(input_dim=len(word_index) + 1,\n",
        "                    output_dim=embedding_dim,\n",
        "                    weights=[embedding_matrix],\n",
        "                    input_length=max_length,\n",
        "                    trainable=False))\n",
        "model.add(SpatialDropout1D(0.2))\n",
        "model.add(LSTM(100, dropout=0.2, recurrent_dropout=0.2))\n",
        "model.add(Dense(3, activation='softmax'))\n",
        "model.summary()"
      ]
    },
    {
      "cell_type": "code",
      "execution_count": null,
      "metadata": {
        "id": "7gVM3j_4Ru9d",
        "outputId": "046ce8b2-881a-4c89-dc5f-99107f0fb92e"
      },
      "outputs": [
        {
          "name": "stdout",
          "output_type": "stream",
          "text": [
            "Epoch 1/20\n",
            "365/365 [==============================] - 29s 62ms/step - loss: 1.0260 - accuracy: 0.4705 - val_loss: 0.9721 - val_accuracy: 0.5197\n",
            "Epoch 2/20\n",
            "365/365 [==============================] - 23s 62ms/step - loss: 0.9811 - accuracy: 0.5148 - val_loss: 0.9232 - val_accuracy: 0.5665\n",
            "Epoch 3/20\n",
            "365/365 [==============================] - 24s 66ms/step - loss: 0.9670 - accuracy: 0.5278 - val_loss: 0.8993 - val_accuracy: 0.5832\n",
            "Epoch 4/20\n",
            "365/365 [==============================] - 24s 65ms/step - loss: 0.9494 - accuracy: 0.5435 - val_loss: 0.8986 - val_accuracy: 0.5752\n",
            "Epoch 5/20\n",
            "365/365 [==============================] - 26s 71ms/step - loss: 0.9421 - accuracy: 0.5497 - val_loss: 0.8891 - val_accuracy: 0.6002\n",
            "Epoch 6/20\n",
            "365/365 [==============================] - 42s 115ms/step - loss: 0.9275 - accuracy: 0.5620 - val_loss: 0.8739 - val_accuracy: 0.6041\n",
            "Epoch 7/20\n",
            "365/365 [==============================] - 29s 79ms/step - loss: 0.9198 - accuracy: 0.5656 - val_loss: 0.8494 - val_accuracy: 0.6131\n",
            "Epoch 8/20\n",
            "365/365 [==============================] - 44s 120ms/step - loss: 0.9122 - accuracy: 0.5712 - val_loss: 0.8593 - val_accuracy: 0.6118\n",
            "Epoch 9/20\n",
            "365/365 [==============================] - 32s 86ms/step - loss: 0.9089 - accuracy: 0.5733 - val_loss: 0.8472 - val_accuracy: 0.6133\n",
            "Epoch 10/20\n",
            "365/365 [==============================] - 27s 75ms/step - loss: 0.9022 - accuracy: 0.5751 - val_loss: 0.8346 - val_accuracy: 0.6325\n",
            "Epoch 11/20\n",
            "365/365 [==============================] - 28s 76ms/step - loss: 0.8937 - accuracy: 0.5836 - val_loss: 0.8245 - val_accuracy: 0.6308\n",
            "Epoch 12/20\n",
            "365/365 [==============================] - 36s 98ms/step - loss: 0.8880 - accuracy: 0.5884 - val_loss: 0.8383 - val_accuracy: 0.6148\n",
            "Epoch 13/20\n",
            "365/365 [==============================] - 28s 77ms/step - loss: 0.8837 - accuracy: 0.5858 - val_loss: 0.8183 - val_accuracy: 0.6359\n",
            "Epoch 14/20\n",
            "365/365 [==============================] - 35s 95ms/step - loss: 0.8849 - accuracy: 0.5894 - val_loss: 0.8309 - val_accuracy: 0.6317\n",
            "Epoch 15/20\n",
            "365/365 [==============================] - 29s 79ms/step - loss: 0.8809 - accuracy: 0.5898 - val_loss: 0.8331 - val_accuracy: 0.6388\n",
            "Epoch 16/20\n",
            "365/365 [==============================] - 37s 101ms/step - loss: 0.8745 - accuracy: 0.5935 - val_loss: 0.8170 - val_accuracy: 0.6383\n",
            "Epoch 17/20\n",
            "365/365 [==============================] - 28s 76ms/step - loss: 0.8723 - accuracy: 0.5924 - val_loss: 0.8087 - val_accuracy: 0.6422\n",
            "Epoch 18/20\n",
            "365/365 [==============================] - 37s 100ms/step - loss: 0.8690 - accuracy: 0.5953 - val_loss: 0.8189 - val_accuracy: 0.6281\n",
            "Epoch 19/20\n",
            "365/365 [==============================] - 29s 78ms/step - loss: 0.8633 - accuracy: 0.5984 - val_loss: 0.8052 - val_accuracy: 0.6446\n",
            "Epoch 20/20\n",
            "365/365 [==============================] - 36s 98ms/step - loss: 0.8622 - accuracy: 0.6028 - val_loss: 0.8033 - val_accuracy: 0.6424\n"
          ]
        }
      ],
      "source": [
        "model.compile(optimizer='adam', loss='categorical_crossentropy', metrics=['accuracy'])\n",
        "history = model.fit(X_train, y_train,\n",
        "          epochs=20,\n",
        "          validation_split=0.15,\n",
        "          batch_size=64,\n",
        "          verbose=1)"
      ]
    },
    {
      "cell_type": "code",
      "execution_count": null,
      "metadata": {
        "id": "yb6Yx5TzRu9d",
        "outputId": "30c83294-cdc6-4311-c465-7b7491cb0d0e"
      },
      "outputs": [
        {
          "data": {
            "image/png": "[encoded data removed]",
            "text/plain": [
              "<Figure size 1500x400 with 2 Axes>"
            ]
          },
          "metadata": {},
          "output_type": "display_data"
        }
      ],
      "source": [
        "plt.figure(figsize=(15, 4))\n",
        "plt.subplot(1, 2, 1)\n",
        "plt.plot(history.history['loss'], label=\"Training Loss\")\n",
        "plt.plot(history.history['val_loss'], label=\"Validation Loss\")\n",
        "plt.legend()\n",
        "plt.title(\"Loss\")\n",
        "\n",
        "\n",
        "plt.subplot(1, 2, 2)\n",
        "plt.plot(history.history['accuracy'], label=\"Training accuracy\")\n",
        "plt.plot(history.history['val_accuracy'], label=\"Validation Accuracy\")\n",
        "plt.title(\"Accuracy\")\n",
        "plt.legend()\n",
        "plt.show()"
      ]
    },
    {
      "cell_type": "code",
      "execution_count": null,
      "metadata": {
        "id": "b3hhKjJhRu9d",
        "outputId": "dbd3ef16-a265-4a34-af5c-e32c8bc5d801"
      },
      "outputs": [
        {
          "name": "stdout",
          "output_type": "stream",
          "text": [
            "Train Accuracy: 0.65\n",
            "Test Accuracy: 0.64\n"
          ]
        }
      ],
      "source": [
        "train_acc = model.evaluate(X_train, y_train, verbose=0)[1]\n",
        "test_acc = model.evaluate(X_test, y_test, verbose=0)[1]\n",
        "print(f\"Train Accuracy: {train_acc:.2f}\")\n",
        "print(f\"Test Accuracy: {test_acc:.2f}\")"
      ]
    },
    {
      "cell_type": "code",
      "execution_count": null,
      "metadata": {
        "id": "LRFgaxr2Ru9e"
      },
      "outputs": [],
      "source": []
    }
  ],
  "metadata": {
    "kernelspec": {
      "display_name": "Python 3",
      "language": "python",
      "name": "python3"
    },
    "language_info": {
      "codemirror_mode": {
        "name": "ipython",
        "version": 3
      },
      "file_extension": ".py",
      "mimetype": "text/x-python",
      "name": "python",
      "nbconvert_exporter": "python",
      "pygments_lexer": "ipython3",
      "version": "3.10.1"
    },
    "orig_nbformat": 4,
    "colab": {
      "provenance": []
    }
  },
  "nbformat": 4,
  "nbformat_minor": 0
}